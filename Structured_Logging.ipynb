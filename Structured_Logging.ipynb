{
 "cells": [
  {
   "cell_type": "code",
   "execution_count": 1,
   "metadata": {
    "slideshow": {
     "slide_type": "skip"
    }
   },
   "outputs": [
    {
     "data": {
      "text/plain": [
       "<module 'logging' from '/usr/local/Cellar/python3/3.6.3/Frameworks/Python.framework/Versions/3.6/lib/python3.6/logging/__init__.py'>"
      ]
     },
     "execution_count": 1,
     "metadata": {},
     "output_type": "execute_result"
    }
   ],
   "source": [
    "# Reload logging for the Notebook\n",
    "\n",
    "import importlib\n",
    "import logging\n",
    "\n",
    "importlib.reload(logging)"
   ]
  },
  {
   "cell_type": "markdown",
   "metadata": {
    "slideshow": {
     "slide_type": "slide"
    }
   },
   "source": [
    "# Structured logging in Python\n",
    "\n",
    "### Rob Van Gennip\n",
    "\n",
    "linkedin.com/in/ravangen"
   ]
  },
  {
   "cell_type": "markdown",
   "metadata": {
    "slideshow": {
     "slide_type": "slide"
    }
   },
   "source": [
    "# Rob Van Gennip\n",
    "\n",
    "- Engineering Lead at Wave\n",
    "- Over 3 years of using Python with Django\n",
    "- Previously 4 years of C# and native Windows development\n",
    "- Focus on distributed systems and tooling"
   ]
  },
  {
   "cell_type": "markdown",
   "metadata": {
    "slideshow": {
     "slide_type": "slide"
    }
   },
   "source": [
    "# Topics\n",
    "\n",
    "- Log Levels\n",
    "- Logging Classes\n",
    "- Structured Logging\n",
    "- Demo \n",
    "- Questions"
   ]
  },
  {
   "cell_type": "markdown",
   "metadata": {
    "slideshow": {
     "slide_type": "slide"
    }
   },
   "source": [
    "# Log Levels\n",
    "\n",
    "- Debug\n",
    "- Info\n",
    "- Warning\n",
    "- Error\n",
    "- Critical"
   ]
  },
  {
   "cell_type": "markdown",
   "metadata": {
    "slideshow": {
     "slide_type": "subslide"
    }
   },
   "source": [
    "## Debug\n",
    "\n",
    "Detailed internal state for diagnosing problems"
   ]
  },
  {
   "cell_type": "markdown",
   "metadata": {
    "slideshow": {
     "slide_type": "notes"
    }
   },
   "source": [
    "Especially with a large amount of data or a high frequency, such as records of algorithm’s internal state changes in a for-loop"
   ]
  },
  {
   "cell_type": "markdown",
   "metadata": {
    "slideshow": {
     "slide_type": "subslide"
    }
   },
   "source": [
    "## Info\n",
    "\n",
    "Confirmation things are working as expected"
   ]
  },
  {
   "cell_type": "markdown",
   "metadata": {
    "slideshow": {
     "slide_type": "notes"
    }
   },
   "source": [
    "Understand what is happening in the application flow\n",
    "\n",
    "one or two per function, perhaps related to handling requests or server state changed\n",
    "\n",
    "Server started; user logged in"
   ]
  },
  {
   "cell_type": "markdown",
   "metadata": {
    "slideshow": {
     "slide_type": "subslide"
    }
   },
   "source": [
    "## Warning\n",
    "\n",
    "Something unexpected happened or indicative of a problem for the near future"
   ]
  },
  {
   "cell_type": "markdown",
   "metadata": {
    "slideshow": {
     "slide_type": "notes"
    }
   },
   "source": [
    "Something important but not an error\n",
    "\n",
    "Disk space low"
   ]
  },
  {
   "cell_type": "markdown",
   "metadata": {
    "slideshow": {
     "slide_type": "subslide"
    }
   },
   "source": [
    "## Error\n",
    "\n",
    "Something is wrong, not able to perform an operation"
   ]
  },
  {
   "cell_type": "markdown",
   "metadata": {
    "slideshow": {
     "slide_type": "notes"
    }
   },
   "source": [
    "Failure to read or create a database record"
   ]
  },
  {
   "cell_type": "markdown",
   "metadata": {
    "slideshow": {
     "slide_type": "subslide"
    }
   },
   "source": [
    "## Critical\n",
    "\n",
    "Something really bad happened, may be unable to continue running"
   ]
  },
  {
   "cell_type": "markdown",
   "metadata": {
    "slideshow": {
     "slide_type": "notes"
    }
   },
   "source": [
    "Out of memory\n",
    "\n",
    "Disk is full"
   ]
  },
  {
   "cell_type": "markdown",
   "metadata": {
    "slideshow": {
     "slide_type": "slide"
    }
   },
   "source": [
    "# Logging Classes\n",
    "\n",
    "- Loggers\n",
    "- Handlers\n",
    "- Filters\n",
    "- Formatters"
   ]
  },
  {
   "cell_type": "markdown",
   "metadata": {
    "slideshow": {
     "slide_type": "subslide"
    }
   },
   "source": [
    "## Logger\n",
    "\n",
    "- The interface that application code directly uses\n",
    "- Named typically as a dot-separated hierarchy like `'a'`, `'a.b'` or `'a.b.c.d'`\n",
    "- Retrieve an instance with `logging.getLogger(name)`\n",
    "- Retrieving a logger same name returns a reference to the same logger"
   ]
  },
  {
   "cell_type": "markdown",
   "metadata": {
    "slideshow": {
     "slide_type": "notes"
    }
   },
   "source": [
    "All loggers are descendants of the root logger\n",
    "\n",
    "Each logger passes log messages on to its parent unless `propagate` is `False`\n",
    "\n",
    "Logger never instantiated directly, but always through `getLogger`"
   ]
  },
  {
   "cell_type": "code",
   "execution_count": 2,
   "metadata": {
    "slideshow": {
     "slide_type": "subslide"
    }
   },
   "outputs": [],
   "source": [
    "# Configure root logger behaviour to output all log levels to stdout\n",
    "\n",
    "import logging\n",
    "import sys\n",
    "\n",
    "logging.basicConfig(\n",
    "    stream=sys.stdout,\n",
    "    level=logging.DEBUG,\n",
    "    format='%(asctime)s - %(levelname)s - %(name)s - %(message)s'\n",
    ")\n",
    "\n",
    "# https://docs.python.org/3/library/logging.html#logrecord-attributes\n",
    "# %(asctime)s : Human-readable time when the LogRecord was created\n",
    "# %(levelname)s : Text logging level for the message\n",
    "# %(name)s : Name of the logger used to log the call\n",
    "# %(message)s : The logged message"
   ]
  },
  {
   "cell_type": "code",
   "execution_count": 3,
   "metadata": {
    "slideshow": {
     "slide_type": "subslide"
    }
   },
   "outputs": [
    {
     "name": "stdout",
     "output_type": "stream",
     "text": [
      "2017-11-11 18:24:05,247 - INFO - root - Hello PyCon Canada!\n"
     ]
    }
   ],
   "source": [
    "root_logger = logging.getLogger()  # no name provided\n",
    "\n",
    "root_logger.info('Hello PyCon Canada!')"
   ]
  },
  {
   "cell_type": "code",
   "execution_count": 4,
   "metadata": {
    "slideshow": {
     "slide_type": "fragment"
    }
   },
   "outputs": [
    {
     "name": "stdout",
     "output_type": "stream",
     "text": [
      "2017-11-11 18:24:05,264 - INFO - foo.bar - Hello PyCon Canada!\n"
     ]
    }
   ],
   "source": [
    "foo_bar_logger = logging.getLogger('foo.bar')\n",
    "\n",
    "foo_bar_logger.info('Hello PyCon Canada!')"
   ]
  },
  {
   "cell_type": "code",
   "execution_count": 5,
   "metadata": {
    "slideshow": {
     "slide_type": "fragment"
    }
   },
   "outputs": [
    {
     "name": "stdout",
     "output_type": "stream",
     "text": [
      "2017-11-11 18:24:05,275 - INFO - __main__ - Hello PyCon Canada!\n"
     ]
    }
   ],
   "source": [
    "# Use __name__ to get the fully-qualified name of the module\n",
    "# Example: api/user.py → 'api.user'\n",
    "# __name__ is '__main__' in an interactive prompt, script, or standard input\n",
    "\n",
    "auto_named_logger = logging.getLogger(__name__)  # recommended\n",
    "\n",
    "auto_named_logger.info('Hello PyCon Canada!')"
   ]
  },
  {
   "cell_type": "markdown",
   "metadata": {
    "slideshow": {
     "slide_type": "notes"
    }
   },
   "source": [
    "Using `__name__` ensures no name collisions"
   ]
  },
  {
   "cell_type": "markdown",
   "metadata": {
    "slideshow": {
     "slide_type": "subslide"
    }
   },
   "source": [
    "## Handler\n",
    "\n",
    "- Sends the log records to a destination\n",
    "- `StreamHandler`: output to streams such as `stdout`, `stderr`\n",
    "- `NullHandler`: no output\n",
    "- `FileHandler`: output to a disk file\n",
    "- `RotatingFileHandler`: rotates at max file size\n",
    "- `TimedRotatingFileHandler`: interval based rotation\n",
    "- `SmtpHandler`: send an email per record"
   ]
  },
  {
   "cell_type": "markdown",
   "metadata": {
    "slideshow": {
     "slide_type": "notes"
    }
   },
   "source": [
    "`RotatingFileHandler`: old log files by append the extensions .1, .2 to the file name"
   ]
  },
  {
   "cell_type": "markdown",
   "metadata": {
    "slideshow": {
     "slide_type": "subslide"
    }
   },
   "source": [
    "## Filter\n",
    "\n",
    "- Fine grained mechanism for determining which log records to output\n",
    "- Returns a true value if the record is to be processed"
   ]
  },
  {
   "cell_type": "code",
   "execution_count": 6,
   "metadata": {
    "slideshow": {
     "slide_type": "fragment"
    }
   },
   "outputs": [],
   "source": [
    "TESTING = True\n",
    "\n",
    "\n",
    "class NotInTestingFilter(logging.Filter):\n",
    "\n",
    "    def filter(self, record):\n",
    "        return not TESTING"
   ]
  },
  {
   "cell_type": "markdown",
   "metadata": {
    "slideshow": {
     "slide_type": "subslide"
    }
   },
   "source": [
    "## Formatter\n",
    "\n",
    "- Specify how content of log records are transformed for output\n",
    "- Format should at least include current time, level, name, and message"
   ]
  },
  {
   "cell_type": "markdown",
   "metadata": {
    "slideshow": {
     "slide_type": "fragment"
    }
   },
   "source": [
    "#### JSON Formatter\n",
    "\n",
    "- Output each record as JSON object\n",
    "    - Includes each format string argument as key/value\n",
    "    - Merge `extra` dict into output object\n",
    "- Conveniently machine parsable\n",
    "- Stop writing custom parsers for syslog type records"
   ]
  },
  {
   "cell_type": "code",
   "execution_count": 7,
   "metadata": {
    "slideshow": {
     "slide_type": "skip"
    }
   },
   "outputs": [
    {
     "name": "stdout",
     "output_type": "stream",
     "text": [
      "Requirement already satisfied: python-json-logger in /usr/local/lib/python3.6/site-packages\r\n",
      "Requirement already satisfied: setuptools in /usr/local/lib/python3.6/site-packages (from python-json-logger)\r\n"
     ]
    }
   ],
   "source": [
    "! pip3 install python-json-logger"
   ]
  },
  {
   "cell_type": "code",
   "execution_count": 8,
   "metadata": {
    "slideshow": {
     "slide_type": "subslide"
    }
   },
   "outputs": [
    {
     "name": "stdout",
     "output_type": "stream",
     "text": [
      "2017-11-11 18:24:06,088 - INFO - 90fca134-4468-41dc-bb26-4d087d61857b - User logout\n"
     ]
    }
   ],
   "source": [
    "server_logger = logging.getLogger('server')\n",
    "server_logger.propagate = False  # do not propagate messages up logger hierarchy\n",
    "\n",
    "log_format = '%(asctime)s - %(levelname)s - %(request_id)s - %(message)s'\n",
    "formatter = logging.Formatter(log_format)\n",
    "\n",
    "handler = logging.StreamHandler(stream=sys.stdout)\n",
    "handler.setFormatter(formatter)\n",
    "server_logger.addHandler(handler)\n",
    "\n",
    "data = {\n",
    "    'request_id': '90fca134-4468-41dc-bb26-4d087d61857b',\n",
    "    'duration': 42,  # not output, not in log_format\n",
    "}\n",
    "\n",
    "server_logger.info('User logout', extra=data)\n",
    "\n",
    "# NOTE: request_id must always be provided to 'server' logger\n",
    "# If not provided, a KeyError will be raised by the format string"
   ]
  },
  {
   "cell_type": "code",
   "execution_count": 9,
   "metadata": {
    "slideshow": {
     "slide_type": "subslide"
    }
   },
   "outputs": [
    {
     "name": "stdout",
     "output_type": "stream",
     "text": [
      "{\"asctime\": \"2017-11-11 18:24:06,111\", \"levelname\": \"INFO\", \"message\": \"User logout\", \"request_id\": \"90fca134-4468-41dc-bb26-4d087d61857b\", \"duration\": 42}\n"
     ]
    }
   ],
   "source": [
    "from pythonjsonlogger import jsonlogger\n",
    "\n",
    "api_logger = logging.getLogger('api')\n",
    "api_logger.propagate = False  # do not propagate messages up logger hierarchy\n",
    "\n",
    "log_format = '%(asctime)s %(levelname)s %(message)s'  # only standard attributes\n",
    "formatter = jsonlogger.JsonFormatter(log_format)\n",
    "\n",
    "handler = logging.StreamHandler(stream=sys.stdout)\n",
    "handler.setFormatter(formatter)\n",
    "api_logger.addHandler(handler)\n",
    "\n",
    "data = {\n",
    "    # output despite not in log_format\n",
    "    'request_id': '90fca134-4468-41dc-bb26-4d087d61857b',\n",
    "    'duration': 42,\n",
    "}\n",
    "\n",
    "api_logger.info('User logout', extra=data)"
   ]
  },
  {
   "cell_type": "markdown",
   "metadata": {
    "slideshow": {
     "slide_type": "slide"
    }
   },
   "source": [
    "# Structured Logging\n",
    "\n",
    "- A way of recording key/value pairs\n",
    "- Output is readable by humans and computers (easy to query)\n",
    "- Include a human readable message with every log\n",
    "- Build context around operations with `extra` parameter\n",
    "- Eliminate any guesswork, let tools format and adapt to the data\n",
    "- Not specific to JSON, logfmt alternative:\n",
    "```\n",
    "level=info msg=\"Stopping all fetchers\"\n",
    "    tag=stopping_fetchers id=ConsumerFetcherManager-1382721708341\n",
    "    module=kafka.consumer.ConsumerFetcherManager\n",
    "```"
   ]
  },
  {
   "cell_type": "markdown",
   "metadata": {
    "slideshow": {
     "slide_type": "notes"
    }
   },
   "source": [
    "- Trying to figure out why an exception happened is infinitely easier if you know more details about who the user was, input parameters, etc\n",
    "- When using a log management system that supports searching by these custom fields, then search becomes easy"
   ]
  },
  {
   "cell_type": "markdown",
   "metadata": {
    "slideshow": {
     "slide_type": "slide"
    }
   },
   "source": [
    "# Demo"
   ]
  },
  {
   "cell_type": "markdown",
   "metadata": {
    "slideshow": {
     "slide_type": "slide"
    }
   },
   "source": [
    "# Questions"
   ]
  },
  {
   "cell_type": "markdown",
   "metadata": {
    "slideshow": {
     "slide_type": "skip"
    }
   },
   "source": [
    "Why even log?\n",
    "- want to know what application is doing\n",
    "- understand strange behaviour, things that are hard to debug\n",
    "- collect data, like performance\n"
   ]
  }
 ],
 "metadata": {
  "celltoolbar": "Slideshow",
  "kernelspec": {
   "display_name": "Python 3",
   "language": "python",
   "name": "python3"
  },
  "language_info": {
   "codemirror_mode": {
    "name": "ipython",
    "version": 3
   },
   "file_extension": ".py",
   "mimetype": "text/x-python",
   "name": "python",
   "nbconvert_exporter": "python",
   "pygments_lexer": "ipython3",
   "version": "3.6.3"
  }
 },
 "nbformat": 4,
 "nbformat_minor": 2
}
