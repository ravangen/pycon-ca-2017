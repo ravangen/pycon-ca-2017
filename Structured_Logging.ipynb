{
 "cells": [
  {
   "cell_type": "code",
   "execution_count": 1,
   "metadata": {
    "slideshow": {
     "slide_type": "skip"
    }
   },
   "outputs": [
    {
     "data": {
      "text/plain": [
       "<module 'logging' from '/usr/local/Cellar/python3/3.6.3/Frameworks/Python.framework/Versions/3.6/lib/python3.6/logging/__init__.py'>"
      ]
     },
     "execution_count": 1,
     "metadata": {},
     "output_type": "execute_result"
    }
   ],
   "source": [
    "# Reload logging for the Notebook\n",
    "\n",
    "import importlib\n",
    "import logging\n",
    "\n",
    "importlib.reload(logging)"
   ]
  },
  {
   "cell_type": "markdown",
   "metadata": {
    "slideshow": {
     "slide_type": "slide"
    }
   },
   "source": [
    "# Structured logging in Python\n",
    "\n",
    "### Rob Van Gennip\n",
    "\n",
    "linkedin.com/in/ravangen"
   ]
  },
  {
   "cell_type": "markdown",
   "metadata": {
    "slideshow": {
     "slide_type": "slide"
    }
   },
   "source": [
    "# Log Levels\n",
    "\n",
    "- Debug\n",
    "- Info\n",
    "- Warning\n",
    "- Error\n",
    "- Critical"
   ]
  },
  {
   "cell_type": "markdown",
   "metadata": {
    "slideshow": {
     "slide_type": "subslide"
    }
   },
   "source": [
    "## Debug\n",
    "\n",
    "Detailed internal state for diagnosing problems"
   ]
  },
  {
   "cell_type": "markdown",
   "metadata": {
    "slideshow": {
     "slide_type": "subslide"
    }
   },
   "source": [
    "## Info\n",
    "\n",
    "Confirmation things are working as expected"
   ]
  },
  {
   "cell_type": "markdown",
   "metadata": {
    "slideshow": {
     "slide_type": "subslide"
    }
   },
   "source": [
    "## Warning\n",
    "\n",
    "Something unexpected happened or indicative of a problem for the near future"
   ]
  },
  {
   "cell_type": "markdown",
   "metadata": {
    "slideshow": {
     "slide_type": "subslide"
    }
   },
   "source": [
    "## Error\n",
    "\n",
    "Something is wrong, not able to perform an operation"
   ]
  },
  {
   "cell_type": "markdown",
   "metadata": {
    "slideshow": {
     "slide_type": "subslide"
    }
   },
   "source": [
    "## Critical\n",
    "\n",
    "Something really bad happened, may be unable to continue running"
   ]
  },
  {
   "cell_type": "markdown",
   "metadata": {
    "slideshow": {
     "slide_type": "slide"
    }
   },
   "source": [
    "# Core Logging Classes\n",
    "\n",
    "- Loggers\n",
    "- Handlers\n",
    "- Filters\n",
    "- Formatters"
   ]
  },
  {
   "cell_type": "markdown",
   "metadata": {
    "slideshow": {
     "slide_type": "subslide"
    }
   },
   "source": [
    "## Logger\n",
    "\n",
    "- The interface that application code directly uses\n",
    "- Named typically as a dot-separated hierarchy like `'a'`, `'a.b'` or `'a.b.c.d'`\n",
    "- Retrieve an instance with `logging.getLogger(name)`\n",
    "- Retrieving a logger same name returns a reference to the same logger"
   ]
  },
  {
   "cell_type": "code",
   "execution_count": 2,
   "metadata": {
    "slideshow": {
     "slide_type": "subslide"
    }
   },
   "outputs": [],
   "source": [
    "# Configure default behaviour to output all log levels to stdout\n",
    "\n",
    "import logging\n",
    "import sys\n",
    "\n",
    "logging.basicConfig(\n",
    "    stream=sys.stdout,\n",
    "    level=logging.DEBUG,\n",
    "    format='%(asctime)s - %(levelname)s - %(name)s - %(message)s'\n",
    ")\n",
    "\n",
    "# https://docs.python.org/3/library/logging.html#logrecord-attributes\n",
    "# %(asctime)s : Human-readable time when the LogRecord was created\n",
    "# %(levelname)s : Text logging level for the message\n",
    "# %(name)s : Name of the logger used to log the call\n",
    "# %(message)s : The logged message"
   ]
  },
  {
   "cell_type": "code",
   "execution_count": 3,
   "metadata": {
    "slideshow": {
     "slide_type": "subslide"
    }
   },
   "outputs": [
    {
     "name": "stdout",
     "output_type": "stream",
     "text": [
      "2017-11-11 12:08:31,659 - INFO - root - Hello PyCon Canada!\n"
     ]
    }
   ],
   "source": [
    "root_logger = logging.getLogger()  # no name provided\n",
    "\n",
    "root_logger.info('Hello PyCon Canada!')"
   ]
  },
  {
   "cell_type": "code",
   "execution_count": 4,
   "metadata": {
    "slideshow": {
     "slide_type": "fragment"
    }
   },
   "outputs": [
    {
     "name": "stdout",
     "output_type": "stream",
     "text": [
      "2017-11-11 12:08:31,669 - INFO - foo.bar - Hello PyCon Canada!\n"
     ]
    }
   ],
   "source": [
    "foo_bar_logger = logging.getLogger('foo.bar')\n",
    "\n",
    "foo_bar_logger.info('Hello PyCon Canada!')"
   ]
  },
  {
   "cell_type": "code",
   "execution_count": 5,
   "metadata": {
    "slideshow": {
     "slide_type": "fragment"
    }
   },
   "outputs": [
    {
     "name": "stdout",
     "output_type": "stream",
     "text": [
      "2017-11-11 12:08:31,677 - INFO - __main__ - Hello PyCon Canada!\n"
     ]
    }
   ],
   "source": [
    "# Use __name__ to get the fully-qualified name of the module\n",
    "# __name__ is '__main__' in an interactive prompt, script, or standard input\n",
    "\n",
    "auto_named_logger = logging.getLogger(__name__)\n",
    "\n",
    "auto_named_logger.info('Hello PyCon Canada!')"
   ]
  },
  {
   "cell_type": "markdown",
   "metadata": {
    "slideshow": {
     "slide_type": "subslide"
    }
   },
   "source": [
    "## Handler\n",
    "\n",
    "- Sends the log records to a destination\n",
    "- `StreamHandler`: output to streams such as `stdout`, `stderr`\n",
    "- `NullHandler`: no output\n",
    "- `FileHandler`: output to a disk file\n",
    "- `RotatingFileHandler`: rotates at max file size\n",
    "- `TimedRotatingFileHandler`: interval based rotation\n",
    "- `SmtpHandler`: send an email per record"
   ]
  },
  {
   "cell_type": "markdown",
   "metadata": {
    "slideshow": {
     "slide_type": "subslide"
    }
   },
   "source": [
    "## Filter\n",
    "\n",
    "- Fine grained mechanism for determining which log records to output"
   ]
  },
  {
   "cell_type": "markdown",
   "metadata": {
    "slideshow": {
     "slide_type": "subslide"
    }
   },
   "source": [
    "## Formatter\n",
    "\n",
    "- Specify how content of log records are transformed for output"
   ]
  },
  {
   "cell_type": "code",
   "execution_count": 6,
   "metadata": {
    "slideshow": {
     "slide_type": "subslide"
    }
   },
   "outputs": [
    {
     "name": "stdout",
     "output_type": "stream",
     "text": [
      "2017-11-11 12:08:31,702 - INFO - 90fca134-4468-41dc-bb26-4d087d61857b - User logout\n"
     ]
    }
   ],
   "source": [
    "server_logger = logging.getLogger('server')\n",
    "server_logger.propagate = False  # do not propagate messages up logger hierarchy\n",
    "\n",
    "log_format = '%(asctime)s - %(levelname)s - %(request_id)s - %(message)s'\n",
    "formatter = logging.Formatter(log_format)\n",
    "\n",
    "handler = logging.StreamHandler(stream=sys.stdout)\n",
    "handler.setFormatter(formatter)\n",
    "server_logger.addHandler(handler)\n",
    "\n",
    "data = {\n",
    "    'request_id': '90fca134-4468-41dc-bb26-4d087d61857b',\n",
    "    'duration': 14,  # not output, not in log_format\n",
    "}\n",
    "\n",
    "server_logger.info('User logout', extra=data)\n",
    "\n",
    "# NOTE: request_id must always be provided to 'server' logger\n",
    "# If not provided, a KeyError will be raised by the format string"
   ]
  },
  {
   "cell_type": "markdown",
   "metadata": {
    "slideshow": {
     "slide_type": "subslide"
    }
   },
   "source": [
    "### JsonFormatter\n",
    "\n",
    "- Output data as JSON objects\n",
    "- Stop writing custom parsers for syslog type records\n",
    "- Easily machine parsable \n",
    "- For each argument in format string, output as key/value in object"
   ]
  },
  {
   "cell_type": "code",
   "execution_count": 7,
   "metadata": {
    "slideshow": {
     "slide_type": "skip"
    }
   },
   "outputs": [],
   "source": [
    "from datetime import date, datetime, time\n",
    "import json\n",
    "import logging\n",
    "import re\n",
    "import six\n",
    "import traceback\n",
    "\n",
    "from collections import OrderedDict\n",
    "from inspect import istraceback\n",
    "\n",
    "\n",
    "# Skip natural LogRecord attributes\n",
    "# http://docs.python.org/library/logging.html#logrecord-attributes\n",
    "RESERVED_ATTRS = (\n",
    "    'args', 'asctime', 'created', 'exc_info', 'exc_text', 'filename',\n",
    "    'funcName', 'levelname', 'levelno', 'lineno', 'module',\n",
    "    'msecs', 'message', 'msg', 'name', 'pathname', 'process',\n",
    "    'processName', 'relativeCreated', 'stack_info', 'thread', 'threadName',\n",
    ")\n",
    "\n",
    "RESERVED_ATTR_HASH = dict(zip(RESERVED_ATTRS, RESERVED_ATTRS))\n",
    "\n",
    "\n",
    "def merge_record_extra(record, target, reserved=RESERVED_ATTR_HASH):\n",
    "    \"\"\"\n",
    "    Merges extra attributes from LogRecord object into target dictionary\n",
    "    :param record: logging.LogRecord\n",
    "    :param target: dict to update\n",
    "    :param reserved: dict or list with reserved keys to skip\n",
    "    \"\"\"\n",
    "    for key, value in six.iteritems(record.__dict__):\n",
    "        # support numeric keys\n",
    "        if key not in reserved and not (hasattr(key, \"startswith\") and key.startswith('_')):\n",
    "            target[key] = value\n",
    "    return target\n",
    "\n",
    "\n",
    "class JsonDataFormatter(logging.Formatter):  # originally based on https://github.com/madzak/python-json-logger\n",
    "    \"\"\"\n",
    "    Format logging records as json strings. Unsupported json types will be converted to strings.\n",
    "    \"\"\"\n",
    "\n",
    "    def __init__(self, *args, **kwargs):\n",
    "        \"\"\"\n",
    "        :param json_default: a function for encoding non-standard objects as outlined in http://docs.python.org/2/library/json.html\n",
    "        :param json_encoder: optional custom encoder\n",
    "        \"\"\"\n",
    "        self.json_default = kwargs.pop('json_default', None)\n",
    "        self.json_encoder = kwargs.pop('json_encoder', None)\n",
    "\n",
    "        super(JsonDataFormatter, self).__init__(*args, **kwargs)\n",
    "\n",
    "        if not self.json_encoder and not self.json_default:\n",
    "            def _default_json_handler(obj):\n",
    "                if isinstance(obj, (date, datetime, time)):\n",
    "                    return obj.isoformat()\n",
    "                elif istraceback(obj):\n",
    "                    tb = six.text_type(''.join(traceback.format_tb(obj)))\n",
    "                    return tb.strip()\n",
    "                elif isinstance(obj, Exception):\n",
    "                    return 'Exception: %s' % six.text_type(obj)\n",
    "                return six.text_type(obj)\n",
    "\n",
    "            self.json_default = _default_json_handler\n",
    "\n",
    "        self._required_fields = self.parse()\n",
    "        self._skip_fields = dict(zip(self._required_fields, self._required_fields))\n",
    "        self._skip_fields.update(RESERVED_ATTR_HASH)\n",
    "\n",
    "    def parse(self):\n",
    "        \"\"\"\n",
    "        Parses format string looking for substitutions\n",
    " \n",
    "        This method is responsible for returning a list of fields (as strings)\n",
    "        to include in all log messages.\n",
    "        \"\"\"\n",
    "        standard_formatters = re.compile(r'\\((.+?)\\)', re.IGNORECASE)\n",
    "        return standard_formatters.findall(self._fmt)\n",
    "\n",
    "    def add_fields(self, log_data, record, message_dict):\n",
    "        \"\"\"\n",
    "        Override this method to implement custom logic for adding fields.\n",
    "        \"\"\"\n",
    "        for field in self._required_fields:\n",
    "            log_data[field] = record.__dict__.get(field)\n",
    "        log_data.update(message_dict)\n",
    "        merge_record_extra(record, log_data, reserved=self._skip_fields)\n",
    "\n",
    "    def process_log_data(self, log_data):\n",
    "        \"\"\"\n",
    "        Override this method to implement custom logic.\n",
    "        \"\"\"\n",
    "        return log_data\n",
    "\n",
    "    def jsonify_log_data(self, log_data):\n",
    "        \"\"\"\n",
    "        Returns a json string of the log data.\n",
    "        \"\"\"\n",
    "        return json.dumps(log_data, default=self.json_default, cls=self.json_encoder)\n",
    "\n",
    "    def format(self, record):\n",
    "        \"\"\"\n",
    "        Formats a log record and serializes to json.\n",
    "        \"\"\"\n",
    "        message_data = {}\n",
    "        record.message = record.getMessage()\n",
    "\n",
    "        # only format time if needed\n",
    "        if \"asctime\" in self._required_fields:\n",
    "            record.asctime = self.formatTime(record, self.datefmt)\n",
    "\n",
    "        # Display formatted exception, but allow overriding it in the user-supplied dict.\n",
    "        if record.exc_info and not message_data.get('exc_info'):\n",
    "            message_data['exc_info'] = self.formatException(record.exc_info)\n",
    "\n",
    "        log_data = OrderedDict()\n",
    "        self.add_fields(log_data, record, message_data)  # collect all information together into log_data\n",
    "        log_data = self.process_log_data(log_data)\n",
    "        return self.jsonify_log_data(log_data)"
   ]
  },
  {
   "cell_type": "code",
   "execution_count": 8,
   "metadata": {
    "slideshow": {
     "slide_type": "subslide"
    }
   },
   "outputs": [
    {
     "name": "stdout",
     "output_type": "stream",
     "text": [
      "{\"asctime\": \"2017-11-11 12:08:32,099\", \"levelname\": \"INFO\", \"message\": \"User logout\", \"request_id\": \"90fca134-4468-41dc-bb26-4d087d61857b\", \"user\": \"ravangen\", \"duration\": 14}\n"
     ]
    }
   ],
   "source": [
    "api_logger = logging.getLogger('api')\n",
    "api_logger.propagate = False  # do not propagate messages up logger hierarchy\n",
    "\n",
    "log_format = '%(asctime)s %(levelname)s %(message)s'\n",
    "formatter = JsonDataFormatter(log_format)\n",
    "\n",
    "handler = logging.StreamHandler(stream=sys.stdout)\n",
    "handler.setFormatter(formatter)\n",
    "api_logger.addHandler(handler)\n",
    "\n",
    "data = {\n",
    "    # output despite not in log_format\n",
    "    'request_id': '90fca134-4468-41dc-bb26-4d087d61857b',\n",
    "    'duration': 14,\n",
    "}\n",
    "\n",
    "api_logger.info('User logout', extra=data)"
   ]
  },
  {
   "cell_type": "markdown",
   "metadata": {
    "slideshow": {
     "slide_type": "skip"
    }
   },
   "source": [
    "from logging import config\n",
    "config.dictConfig({\n",
    "    'version': 1,\n",
    "    'disable_existing_loggers': True,\n",
    "    'formatters': {\n",
    "        'json': {\n",
    "            '()': JsonDataFormatter,\n",
    "            # for each argument in format, include its value in the output json (does not render content formatted as a single value)\n",
    "            'format': '%(levelname)s %(asctime)s %(module)s %(process)d %(thread)d %(message)s',\n",
    "        },\n",
    "    },\n",
    "    'handlers': {\n",
    "        'console': {\n",
    "            'level': 'DEBUG',\n",
    "            'class': 'logging.StreamHandler',\n",
    "            'formatter': 'json',\n",
    "        },\n",
    "    },\n",
    "    'loggers': {\n",
    "       \n",
    "    },\n",
    "    'root': {\n",
    "        'handlers': ['console', ],\n",
    "        'level': 'INFO',\n",
    "    },\n",
    "})"
   ]
  },
  {
   "cell_type": "markdown",
   "metadata": {
    "slideshow": {
     "slide_type": "skip"
    }
   },
   "source": [
    "from logging import config\n",
    "config.dictConfig({\n",
    "    'version': 1,\n",
    "    'formatters': {\n",
    "        'defa': {\n",
    "            '()': logging.Formatter,\n",
    "            'format': '%(levelname)s %(asctime)s ... %(message)s',\n",
    "        },\n",
    "    },\n",
    "    'handlers': {\n",
    "        'console': {\n",
    "            'level': 'DEBUG',\n",
    "            'class': 'logging.StreamHandler',\n",
    "        },\n",
    "    },\n",
    "    'loggers': {\n",
    "        'api': {\n",
    "            'level': 'WARNING',\n",
    "            'handlers': ['console', ],\n",
    "            'propagate': False,\n",
    "        },\n",
    "    },\n",
    "})\n",
    "\n",
    "api_logger = logging.getLogger('api')"
   ]
  }
 ],
 "metadata": {
  "celltoolbar": "Slideshow",
  "kernelspec": {
   "display_name": "Python 3",
   "language": "python",
   "name": "python3"
  },
  "language_info": {
   "codemirror_mode": {
    "name": "ipython",
    "version": 3
   },
   "file_extension": ".py",
   "mimetype": "text/x-python",
   "name": "python",
   "nbconvert_exporter": "python",
   "pygments_lexer": "ipython3",
   "version": "3.6.3"
  }
 },
 "nbformat": 4,
 "nbformat_minor": 2
}
